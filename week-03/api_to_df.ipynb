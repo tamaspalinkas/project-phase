{
 "cells": [
  {
   "cell_type": "code",
   "execution_count": 31,
   "metadata": {},
   "outputs": [],
   "source": [
    "import numpy as np\n",
    "import pandas as pd\n",
    "import requests\n",
    "import json"
   ]
  },
  {
   "cell_type": "code",
   "execution_count": 58,
   "metadata": {},
   "outputs": [],
   "source": [
    "characters = [str(x) for x in range(1,10)]"
   ]
  },
  {
   "cell_type": "code",
   "execution_count": 46,
   "metadata": {},
   "outputs": [],
   "source": [
    "url = 'https://swapi.co/api/people/'"
   ]
  },
  {
   "cell_type": "code",
   "execution_count": 34,
   "metadata": {},
   "outputs": [
    {
     "name": "stdout",
     "output_type": "stream",
     "text": [
      "('name', 'Luke Skywalker')\n",
      "('height', '172')\n",
      "('mass', '77')\n",
      "('hair_color', 'blond')\n",
      "('skin_color', 'fair')\n",
      "('eye_color', 'blue')\n",
      "('birth_year', '19BBY')\n",
      "('gender', 'male')\n",
      "('homeworld', 'https://swapi.co/api/planets/1/')\n",
      "('films', ['https://swapi.co/api/films/2/', 'https://swapi.co/api/films/6/', 'https://swapi.co/api/films/3/', 'https://swapi.co/api/films/1/', 'https://swapi.co/api/films/7/'])\n",
      "('species', ['https://swapi.co/api/species/1/'])\n",
      "('vehicles', ['https://swapi.co/api/vehicles/14/', 'https://swapi.co/api/vehicles/30/'])\n",
      "('starships', ['https://swapi.co/api/starships/12/', 'https://swapi.co/api/starships/22/'])\n",
      "('created', '2014-12-09T13:50:51.644000Z')\n",
      "('edited', '2014-12-20T21:17:56.891000Z')\n",
      "('url', 'https://swapi.co/api/people/1/')\n"
     ]
    }
   ],
   "source": [
    "JSONcont = requests.get(url + str(characters[1])).json()\n",
    "\n",
    "for item in JSONcont.items():\n",
    "    print(item)"
   ]
  },
  {
   "cell_type": "code",
   "execution_count": 60,
   "metadata": {},
   "outputs": [],
   "source": [
    "character_list = []\n",
    "\n",
    "for character in characters:\n",
    "    JSONcontent = requests.get(url + str(character)).json()\n",
    "    character_list.append([JSONcontent['name'], JSONcontent['height'], JSONcontent['mass'], JSONcontent['birth_year'],\n",
    "                          JSONcontent['homeworld'], JSONcontent['films']])"
   ]
  },
  {
   "cell_type": "code",
   "execution_count": 61,
   "metadata": {
    "scrolled": true
   },
   "outputs": [
    {
     "name": "stdout",
     "output_type": "stream",
     "text": [
      "[['Luke Skywalker', '172', '77', '19BBY', 'https://swapi.co/api/planets/1/', ['https://swapi.co/api/films/2/', 'https://swapi.co/api/films/6/', 'https://swapi.co/api/films/3/', 'https://swapi.co/api/films/1/', 'https://swapi.co/api/films/7/']], ['C-3PO', '167', '75', '112BBY', 'https://swapi.co/api/planets/1/', ['https://swapi.co/api/films/2/', 'https://swapi.co/api/films/5/', 'https://swapi.co/api/films/4/', 'https://swapi.co/api/films/6/', 'https://swapi.co/api/films/3/', 'https://swapi.co/api/films/1/']], ['R2-D2', '96', '32', '33BBY', 'https://swapi.co/api/planets/8/', ['https://swapi.co/api/films/2/', 'https://swapi.co/api/films/5/', 'https://swapi.co/api/films/4/', 'https://swapi.co/api/films/6/', 'https://swapi.co/api/films/3/', 'https://swapi.co/api/films/1/', 'https://swapi.co/api/films/7/']], ['Darth Vader', '202', '136', '41.9BBY', 'https://swapi.co/api/planets/1/', ['https://swapi.co/api/films/2/', 'https://swapi.co/api/films/6/', 'https://swapi.co/api/films/3/', 'https://swapi.co/api/films/1/']], ['Leia Organa', '150', '49', '19BBY', 'https://swapi.co/api/planets/2/', ['https://swapi.co/api/films/2/', 'https://swapi.co/api/films/6/', 'https://swapi.co/api/films/3/', 'https://swapi.co/api/films/1/', 'https://swapi.co/api/films/7/']], ['Owen Lars', '178', '120', '52BBY', 'https://swapi.co/api/planets/1/', ['https://swapi.co/api/films/5/', 'https://swapi.co/api/films/6/', 'https://swapi.co/api/films/1/']], ['Beru Whitesun lars', '165', '75', '47BBY', 'https://swapi.co/api/planets/1/', ['https://swapi.co/api/films/5/', 'https://swapi.co/api/films/6/', 'https://swapi.co/api/films/1/']], ['R5-D4', '97', '32', 'unknown', 'https://swapi.co/api/planets/1/', ['https://swapi.co/api/films/1/']], ['Biggs Darklighter', '183', '84', '24BBY', 'https://swapi.co/api/planets/1/', ['https://swapi.co/api/films/1/']]]\n"
     ]
    }
   ],
   "source": [
    "print(character_list)"
   ]
  },
  {
   "cell_type": "code",
   "execution_count": 62,
   "metadata": {},
   "outputs": [
    {
     "data": {
      "text/html": [
       "<div>\n",
       "<style scoped>\n",
       "    .dataframe tbody tr th:only-of-type {\n",
       "        vertical-align: middle;\n",
       "    }\n",
       "\n",
       "    .dataframe tbody tr th {\n",
       "        vertical-align: top;\n",
       "    }\n",
       "\n",
       "    .dataframe thead th {\n",
       "        text-align: right;\n",
       "    }\n",
       "</style>\n",
       "<table border=\"1\" class=\"dataframe\">\n",
       "  <thead>\n",
       "    <tr style=\"text-align: right;\">\n",
       "      <th></th>\n",
       "      <th>0</th>\n",
       "      <th>1</th>\n",
       "      <th>2</th>\n",
       "      <th>3</th>\n",
       "      <th>4</th>\n",
       "      <th>5</th>\n",
       "    </tr>\n",
       "  </thead>\n",
       "  <tbody>\n",
       "    <tr>\n",
       "      <th>8</th>\n",
       "      <td>Biggs Darklighter</td>\n",
       "      <td>183</td>\n",
       "      <td>84</td>\n",
       "      <td>24BBY</td>\n",
       "      <td>https://swapi.co/api/planets/1/</td>\n",
       "      <td>[https://swapi.co/api/films/1/]</td>\n",
       "    </tr>\n",
       "    <tr>\n",
       "      <th>6</th>\n",
       "      <td>Beru Whitesun lars</td>\n",
       "      <td>165</td>\n",
       "      <td>75</td>\n",
       "      <td>47BBY</td>\n",
       "      <td>https://swapi.co/api/planets/1/</td>\n",
       "      <td>[https://swapi.co/api/films/5/, https://swapi....</td>\n",
       "    </tr>\n",
       "    <tr>\n",
       "      <th>1</th>\n",
       "      <td>C-3PO</td>\n",
       "      <td>167</td>\n",
       "      <td>75</td>\n",
       "      <td>112BBY</td>\n",
       "      <td>https://swapi.co/api/planets/1/</td>\n",
       "      <td>[https://swapi.co/api/films/2/, https://swapi....</td>\n",
       "    </tr>\n",
       "    <tr>\n",
       "      <th>4</th>\n",
       "      <td>Leia Organa</td>\n",
       "      <td>150</td>\n",
       "      <td>49</td>\n",
       "      <td>19BBY</td>\n",
       "      <td>https://swapi.co/api/planets/2/</td>\n",
       "      <td>[https://swapi.co/api/films/2/, https://swapi....</td>\n",
       "    </tr>\n",
       "    <tr>\n",
       "      <th>3</th>\n",
       "      <td>Darth Vader</td>\n",
       "      <td>202</td>\n",
       "      <td>136</td>\n",
       "      <td>41.9BBY</td>\n",
       "      <td>https://swapi.co/api/planets/1/</td>\n",
       "      <td>[https://swapi.co/api/films/2/, https://swapi....</td>\n",
       "    </tr>\n",
       "  </tbody>\n",
       "</table>\n",
       "</div>"
      ],
      "text/plain": [
       "                    0    1    2        3                                4  \\\n",
       "8   Biggs Darklighter  183   84    24BBY  https://swapi.co/api/planets/1/   \n",
       "6  Beru Whitesun lars  165   75    47BBY  https://swapi.co/api/planets/1/   \n",
       "1               C-3PO  167   75   112BBY  https://swapi.co/api/planets/1/   \n",
       "4         Leia Organa  150   49    19BBY  https://swapi.co/api/planets/2/   \n",
       "3         Darth Vader  202  136  41.9BBY  https://swapi.co/api/planets/1/   \n",
       "\n",
       "                                                   5  \n",
       "8                    [https://swapi.co/api/films/1/]  \n",
       "6  [https://swapi.co/api/films/5/, https://swapi....  \n",
       "1  [https://swapi.co/api/films/2/, https://swapi....  \n",
       "4  [https://swapi.co/api/films/2/, https://swapi....  \n",
       "3  [https://swapi.co/api/films/2/, https://swapi....  "
      ]
     },
     "execution_count": 62,
     "metadata": {},
     "output_type": "execute_result"
    }
   ],
   "source": [
    "sw_data = pd.DataFrame(character_list)\n",
    "sw_data.sample(5)"
   ]
  },
  {
   "cell_type": "code",
   "execution_count": 63,
   "metadata": {},
   "outputs": [],
   "source": [
    "sw_data.columns = ['name', 'height', 'mass', 'birth_year', 'homeworld', 'films']"
   ]
  },
  {
   "cell_type": "code",
   "execution_count": 65,
   "metadata": {},
   "outputs": [
    {
     "data": {
      "text/html": [
       "<div>\n",
       "<style scoped>\n",
       "    .dataframe tbody tr th:only-of-type {\n",
       "        vertical-align: middle;\n",
       "    }\n",
       "\n",
       "    .dataframe tbody tr th {\n",
       "        vertical-align: top;\n",
       "    }\n",
       "\n",
       "    .dataframe thead th {\n",
       "        text-align: right;\n",
       "    }\n",
       "</style>\n",
       "<table border=\"1\" class=\"dataframe\">\n",
       "  <thead>\n",
       "    <tr style=\"text-align: right;\">\n",
       "      <th></th>\n",
       "      <th>name</th>\n",
       "      <th>height</th>\n",
       "      <th>mass</th>\n",
       "      <th>birth_year</th>\n",
       "      <th>homeworld</th>\n",
       "      <th>films</th>\n",
       "    </tr>\n",
       "  </thead>\n",
       "  <tbody>\n",
       "    <tr>\n",
       "      <th>0</th>\n",
       "      <td>Luke Skywalker</td>\n",
       "      <td>172</td>\n",
       "      <td>77</td>\n",
       "      <td>19BBY</td>\n",
       "      <td>https://swapi.co/api/planets/1/</td>\n",
       "      <td>[https://swapi.co/api/films/2/, https://swapi....</td>\n",
       "    </tr>\n",
       "    <tr>\n",
       "      <th>1</th>\n",
       "      <td>C-3PO</td>\n",
       "      <td>167</td>\n",
       "      <td>75</td>\n",
       "      <td>112BBY</td>\n",
       "      <td>https://swapi.co/api/planets/1/</td>\n",
       "      <td>[https://swapi.co/api/films/2/, https://swapi....</td>\n",
       "    </tr>\n",
       "    <tr>\n",
       "      <th>2</th>\n",
       "      <td>R2-D2</td>\n",
       "      <td>96</td>\n",
       "      <td>32</td>\n",
       "      <td>33BBY</td>\n",
       "      <td>https://swapi.co/api/planets/8/</td>\n",
       "      <td>[https://swapi.co/api/films/2/, https://swapi....</td>\n",
       "    </tr>\n",
       "    <tr>\n",
       "      <th>3</th>\n",
       "      <td>Darth Vader</td>\n",
       "      <td>202</td>\n",
       "      <td>136</td>\n",
       "      <td>41.9BBY</td>\n",
       "      <td>https://swapi.co/api/planets/1/</td>\n",
       "      <td>[https://swapi.co/api/films/2/, https://swapi....</td>\n",
       "    </tr>\n",
       "    <tr>\n",
       "      <th>4</th>\n",
       "      <td>Leia Organa</td>\n",
       "      <td>150</td>\n",
       "      <td>49</td>\n",
       "      <td>19BBY</td>\n",
       "      <td>https://swapi.co/api/planets/2/</td>\n",
       "      <td>[https://swapi.co/api/films/2/, https://swapi....</td>\n",
       "    </tr>\n",
       "    <tr>\n",
       "      <th>5</th>\n",
       "      <td>Owen Lars</td>\n",
       "      <td>178</td>\n",
       "      <td>120</td>\n",
       "      <td>52BBY</td>\n",
       "      <td>https://swapi.co/api/planets/1/</td>\n",
       "      <td>[https://swapi.co/api/films/5/, https://swapi....</td>\n",
       "    </tr>\n",
       "    <tr>\n",
       "      <th>6</th>\n",
       "      <td>Beru Whitesun lars</td>\n",
       "      <td>165</td>\n",
       "      <td>75</td>\n",
       "      <td>47BBY</td>\n",
       "      <td>https://swapi.co/api/planets/1/</td>\n",
       "      <td>[https://swapi.co/api/films/5/, https://swapi....</td>\n",
       "    </tr>\n",
       "    <tr>\n",
       "      <th>7</th>\n",
       "      <td>R5-D4</td>\n",
       "      <td>97</td>\n",
       "      <td>32</td>\n",
       "      <td>unknown</td>\n",
       "      <td>https://swapi.co/api/planets/1/</td>\n",
       "      <td>[https://swapi.co/api/films/1/]</td>\n",
       "    </tr>\n",
       "    <tr>\n",
       "      <th>8</th>\n",
       "      <td>Biggs Darklighter</td>\n",
       "      <td>183</td>\n",
       "      <td>84</td>\n",
       "      <td>24BBY</td>\n",
       "      <td>https://swapi.co/api/planets/1/</td>\n",
       "      <td>[https://swapi.co/api/films/1/]</td>\n",
       "    </tr>\n",
       "  </tbody>\n",
       "</table>\n",
       "</div>"
      ],
      "text/plain": [
       "                 name height mass birth_year                        homeworld  \\\n",
       "0      Luke Skywalker    172   77      19BBY  https://swapi.co/api/planets/1/   \n",
       "1               C-3PO    167   75     112BBY  https://swapi.co/api/planets/1/   \n",
       "2               R2-D2     96   32      33BBY  https://swapi.co/api/planets/8/   \n",
       "3         Darth Vader    202  136    41.9BBY  https://swapi.co/api/planets/1/   \n",
       "4         Leia Organa    150   49      19BBY  https://swapi.co/api/planets/2/   \n",
       "5           Owen Lars    178  120      52BBY  https://swapi.co/api/planets/1/   \n",
       "6  Beru Whitesun lars    165   75      47BBY  https://swapi.co/api/planets/1/   \n",
       "7               R5-D4     97   32    unknown  https://swapi.co/api/planets/1/   \n",
       "8   Biggs Darklighter    183   84      24BBY  https://swapi.co/api/planets/1/   \n",
       "\n",
       "                                               films  \n",
       "0  [https://swapi.co/api/films/2/, https://swapi....  \n",
       "1  [https://swapi.co/api/films/2/, https://swapi....  \n",
       "2  [https://swapi.co/api/films/2/, https://swapi....  \n",
       "3  [https://swapi.co/api/films/2/, https://swapi....  \n",
       "4  [https://swapi.co/api/films/2/, https://swapi....  \n",
       "5  [https://swapi.co/api/films/5/, https://swapi....  \n",
       "6  [https://swapi.co/api/films/5/, https://swapi....  \n",
       "7                    [https://swapi.co/api/films/1/]  \n",
       "8                    [https://swapi.co/api/films/1/]  "
      ]
     },
     "execution_count": 65,
     "metadata": {},
     "output_type": "execute_result"
    }
   ],
   "source": [
    "sw_data"
   ]
  },
  {
   "cell_type": "code",
   "execution_count": 67,
   "metadata": {},
   "outputs": [],
   "source": [
    "sw_data.to_csv('sw_sample.csv')"
   ]
  },
  {
   "cell_type": "code",
   "execution_count": null,
   "metadata": {},
   "outputs": [],
   "source": []
  }
 ],
 "metadata": {
  "kernelspec": {
   "display_name": "Python 3",
   "language": "python",
   "name": "python3"
  },
  "language_info": {
   "codemirror_mode": {
    "name": "ipython",
    "version": 3
   },
   "file_extension": ".py",
   "mimetype": "text/x-python",
   "name": "python",
   "nbconvert_exporter": "python",
   "pygments_lexer": "ipython3",
   "version": "3.7.0"
  }
 },
 "nbformat": 4,
 "nbformat_minor": 2
}
